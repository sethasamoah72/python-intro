{
  "nbformat": 4,
  "nbformat_minor": 0,
  "metadata": {
    "colab": {
      "provenance": [],
      "authorship_tag": "ABX9TyPPB/CHbWjyqys3ckkI5BRK",
      "include_colab_link": true
    },
    "kernelspec": {
      "name": "python3",
      "display_name": "Python 3"
    },
    "language_info": {
      "name": "python"
    }
  },
  "cells": [
    {
      "cell_type": "markdown",
      "metadata": {
        "id": "view-in-github",
        "colab_type": "text"
      },
      "source": [
        "<a href=\"https://colab.research.google.com/github/sethasamoah72/python-intro/blob/main/P1.ipynb\" target=\"_parent\"><img src=\"https://colab.research.google.com/assets/colab-badge.svg\" alt=\"Open In Colab\"/></a>"
      ]
    },
    {
      "cell_type": "code",
      "execution_count": 5,
      "metadata": {
        "colab": {
          "base_uri": "https://localhost:8080/"
        },
        "id": "XJa11gGhfNHg",
        "outputId": "23b29483-d29e-4a15-ea5c-72da6ab8fddc"
      },
      "outputs": [
        {
          "output_type": "stream",
          "name": "stdout",
          "text": [
            "average is 1.5\n",
            "std is 3\n"
          ]
        }
      ],
      "source": [
        "import numpy as np\n",
        "\n",
        "average= 1.5\n",
        "std= 3\n",
        "print(\"average is\",average)\n",
        "print (\"std is\",std)"
      ]
    },
    {
      "cell_type": "code",
      "source": [
        "np.random.normal(1.5,3,60)\n"
      ],
      "metadata": {
        "colab": {
          "base_uri": "https://localhost:8080/"
        },
        "id": "Lyhey5l5re0u",
        "outputId": "29ac5737-9441-47c6-c0c2-7445370f93b6"
      },
      "execution_count": 21,
      "outputs": [
        {
          "output_type": "execute_result",
          "data": {
            "text/plain": [
              "array([ 2.15287211e+00, -7.61399690e-01,  2.78794474e+00,  1.10480642e+00,\n",
              "        2.37922278e+00,  4.07498112e+00,  4.85766670e+00,  5.84783942e+00,\n",
              "       -2.95693963e+00, -2.36025010e+00,  8.22389550e+00,  1.75457714e+00,\n",
              "        2.26479461e+00, -2.37379590e+00, -2.75177239e+00,  4.85811003e+00,\n",
              "       -2.17798511e-01,  1.83693684e+00, -8.64942010e-01,  1.00831734e+00,\n",
              "        2.91881017e+00, -4.86766662e-01, -3.21285580e-03,  2.19537635e+00,\n",
              "        1.81622708e+00, -2.47211928e+00,  2.64030583e-03, -9.83247539e-01,\n",
              "        1.81714987e+00,  5.31294553e+00,  2.61038821e+00,  2.43014170e+00,\n",
              "        2.96637433e+00,  3.79068013e+00,  5.95457904e+00,  1.91157025e+00,\n",
              "        4.63195343e+00,  3.56679600e+00, -5.38604936e-02, -1.15523918e+00,\n",
              "        1.89437845e+00, -1.63244111e+00,  3.18758857e+00,  2.70814822e-01,\n",
              "       -5.92368113e-01,  4.18597305e+00,  7.88194527e+00,  1.11673140e-01,\n",
              "        2.48706312e+00,  2.59921530e+00,  2.26513044e+00,  3.11972719e-01,\n",
              "        4.84272715e+00,  5.27927079e-01,  1.90918254e+00, -4.08702820e-01,\n",
              "        2.43246020e+00,  2.49490754e+00,  4.23010587e+00, -9.45789118e-01])"
            ]
          },
          "metadata": {},
          "execution_count": 21
        }
      ]
    },
    {
      "cell_type": "code",
      "source": [
        "random_data=np.random.normal(1.5,std,60)\n",
        "random_data\n",
        "\n"
      ],
      "metadata": {
        "colab": {
          "base_uri": "https://localhost:8080/"
        },
        "id": "aTxKvJc8ysct",
        "outputId": "947b923d-24f3-409c-863e-79692243b638"
      },
      "execution_count": 12,
      "outputs": [
        {
          "output_type": "execute_result",
          "data": {
            "text/plain": [
              "array([ 5.65322447,  2.68585261, -1.35647041,  2.19813036, -0.42863578,\n",
              "        3.46622931,  1.99106639,  5.22691909,  0.39094404,  0.19672469,\n",
              "        4.32662865,  6.19040157,  0.98222197,  2.17158163, -0.74057675,\n",
              "       -3.56555904,  3.24692903,  1.27399592, -0.67025458,  0.2697097 ,\n",
              "       -4.4197247 ,  2.53755791,  4.2838186 ,  1.77120072,  1.92599521,\n",
              "       -4.66114199, -2.69933741,  1.57897203,  0.05137461,  1.33372147,\n",
              "        3.56840998, -0.92302747, -1.36005022,  2.67082245,  3.04289074,\n",
              "        4.45401971,  0.45934074,  1.81720338, -0.76471361,  6.38634869,\n",
              "        1.74736732,  4.09134208,  0.58900915,  0.92245964,  5.85181841,\n",
              "        0.59129065,  2.42609766, -6.19534632, -0.40582278,  1.47113932,\n",
              "        2.55136272, -0.80578541,  1.5176636 , -1.2265057 ,  1.47786599,\n",
              "        4.55914632, -1.05074496,  1.26542556,  1.6104752 ,  2.8730281 ])"
            ]
          },
          "metadata": {},
          "execution_count": 12
        }
      ]
    },
    {
      "cell_type": "code",
      "source": [
        "np.average(random_data)\n"
      ],
      "metadata": {
        "colab": {
          "base_uri": "https://localhost:8080/"
        },
        "id": "OVG-4cMwzOSr",
        "outputId": "0329e846-ec30-4c47-e6e3-5afa4c1d9961"
      },
      "execution_count": 22,
      "outputs": [
        {
          "output_type": "execute_result",
          "data": {
            "text/plain": [
              "1.3070671710338233"
            ]
          },
          "metadata": {},
          "execution_count": 22
        }
      ]
    },
    {
      "cell_type": "code",
      "source": [
        "np.std(random_data)\n"
      ],
      "metadata": {
        "colab": {
          "base_uri": "https://localhost:8080/"
        },
        "id": "DZQMqsiMziH0",
        "outputId": "91e9b4ec-5a87-472c-8921-0a352a9616eb"
      },
      "execution_count": 23,
      "outputs": [
        {
          "output_type": "execute_result",
          "data": {
            "text/plain": [
              "2.6024434846636217"
            ]
          },
          "metadata": {},
          "execution_count": 23
        }
      ]
    },
    {
      "cell_type": "code",
      "source": [
        "np.shape(random_data)\n"
      ],
      "metadata": {
        "colab": {
          "base_uri": "https://localhost:8080/"
        },
        "id": "EPB-MDowzk2R",
        "outputId": "509b593d-b8b7-4b11-e40f-196ec7fd014c"
      },
      "execution_count": 24,
      "outputs": [
        {
          "output_type": "execute_result",
          "data": {
            "text/plain": [
              "(60,)"
            ]
          },
          "metadata": {},
          "execution_count": 24
        }
      ]
    },
    {
      "cell_type": "code",
      "source": [
        "np.prod(random_data)\n"
      ],
      "metadata": {
        "colab": {
          "base_uri": "https://localhost:8080/"
        },
        "id": "wrHnZvFj0RTM",
        "outputId": "9f695411-b5ed-48ef-9378-d2948a136974"
      },
      "execution_count": 25,
      "outputs": [
        {
          "output_type": "execute_result",
          "data": {
            "text/plain": [
              "17135669131414.98"
            ]
          },
          "metadata": {},
          "execution_count": 25
        }
      ]
    },
    {
      "cell_type": "code",
      "source": [
        "np.sum(random_data)\n"
      ],
      "metadata": {
        "colab": {
          "base_uri": "https://localhost:8080/"
        },
        "id": "PKL7_-xj0c4e",
        "outputId": "7ca64046-1674-4aa4-d783-0e17133d8bc9"
      },
      "execution_count": 26,
      "outputs": [
        {
          "output_type": "execute_result",
          "data": {
            "text/plain": [
              "78.4240302620294"
            ]
          },
          "metadata": {},
          "execution_count": 26
        }
      ]
    },
    {
      "cell_type": "markdown",
      "source": [
        "defining a function in python is like creating your own set of instructions. it is often started with the \"def\" then your arguments follow ✅"
      ],
      "metadata": {
        "id": "ORAI4n0s3Nwa"
      }
    },
    {
      "cell_type": "markdown",
      "source": [
        "at the end of defining your function, you need to call your function to return the result"
      ],
      "metadata": {
        "id": "q9F_ZK7v5LLx"
      }
    },
    {
      "cell_type": "code",
      "source": [
        "def compute_average_and_std(random_data):\n",
        "  np.average(random_data)\n",
        "  np.std(random_data)\n",
        "  return average,std\n",
        "  return\n",
        "compute_average_and_std(random_data)\n",
        "\n"
      ],
      "metadata": {
        "colab": {
          "base_uri": "https://localhost:8080/"
        },
        "id": "DgguJTnI1J07",
        "outputId": "bc0ca2b3-c696-4dbb-bed9-68860b0d79a0"
      },
      "execution_count": 36,
      "outputs": [
        {
          "output_type": "execute_result",
          "data": {
            "text/plain": [
              "(1.5, 3)"
            ]
          },
          "metadata": {},
          "execution_count": 36
        }
      ]
    },
    {
      "cell_type": "code",
      "source": [
        "import matplotlib.pyplot as plt\n",
        "plt.hist(random_data,bins=13,color=\"green\",rwidth=0.8)\n",
        "plt.xlabel(\"x-axis\")\n",
        "plt.ylabel(\"y-axis\")\n",
        "plt.title(\"python practise by seth\")\n",
        "\n"
      ],
      "metadata": {
        "colab": {
          "base_uri": "https://localhost:8080/",
          "height": 489
        },
        "id": "uUEcVxnr5aqi",
        "outputId": "cad3c55a-8086-461a-e046-92a841e16bd5"
      },
      "execution_count": 48,
      "outputs": [
        {
          "output_type": "execute_result",
          "data": {
            "text/plain": [
              "Text(0.5, 1.0, 'python practise by seth')"
            ]
          },
          "metadata": {},
          "execution_count": 48
        },
        {
          "output_type": "display_data",
          "data": {
            "text/plain": [
              "<Figure size 640x480 with 1 Axes>"
            ],
            "image/png": "[encoded data removed]"
          },
          "metadata": {}
        }
      ]
    }
  ]
}